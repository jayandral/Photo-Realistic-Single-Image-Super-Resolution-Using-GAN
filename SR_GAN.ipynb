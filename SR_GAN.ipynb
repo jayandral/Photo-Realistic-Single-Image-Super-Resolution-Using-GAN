{
  "nbformat": 4,
  "nbformat_minor": 0,
  "metadata": {
    "colab": {
      "name": "SR-GAN.ipynb",
      "provenance": [],
      "collapsed_sections": [],
      "mount_file_id": "1BIPP2Frj4j7CyF07Vck9bCnKfGD4KX8u",
      "authorship_tag": "ABX9TyPhtai3pznDhXFDBXzkjM7Z",
      "include_colab_link": true
    },
    "kernelspec": {
      "name": "python3",
      "display_name": "Python 3"
    },
    "accelerator": "GPU"
  },
  "cells": [
    {
      "cell_type": "markdown",
      "metadata": {
        "id": "view-in-github",
        "colab_type": "text"
      },
      "source": [
        "<a href=\"https://colab.research.google.com/github/ArunVigesh/Photo-Realistic-Single-Image-Super-Resolution-Using-GAN/blob/master/SR_GAN.ipynb\" target=\"_parent\"><img src=\"https://colab.research.google.com/assets/colab-badge.svg\" alt=\"Open In Colab\"/></a>"
      ]
    },
    {
      "cell_type": "code",
      "metadata": {
        "id": "-s-1svoVks0c",
        "colab_type": "code",
        "colab": {
          "base_uri": "https://localhost:8080/",
          "height": 55
        },
        "outputId": "e087adf2-604b-4801-b85e-23db371a0567"
      },
      "source": [
        "from google.colab import drive\n",
        "drive.mount('/content/drive')"
      ],
      "execution_count": 12,
      "outputs": [
        {
          "output_type": "stream",
          "text": [
            "Drive already mounted at /content/drive; to attempt to forcibly remount, call drive.mount(\"/content/drive\", force_remount=True).\n"
          ],
          "name": "stdout"
        }
      ]
    },
    {
      "cell_type": "code",
      "metadata": {
        "id": "gTe-tld17CpX",
        "colab_type": "code",
        "colab": {}
      },
      "source": [
        "import torch\n",
        "import torch.nn as n\n",
        "import torch.nn.functional as f"
      ],
      "execution_count": 0,
      "outputs": []
    },
    {
      "cell_type": "code",
      "metadata": {
        "id": "AYXrFqHSualV",
        "colab_type": "code",
        "colab": {}
      },
      "source": [
        "def residualBlock(Model):\n",
        "  gModel2=Model\n",
        "  Model=n.Conv2d(64,64,3)(Model)\n",
        "  Model=n.BatchNorm2d(64)(Model)\n",
        "  Model=n.PReLU()(Model)\n",
        "  Model=n.Conv2d(64,64,3)(Model)\n",
        "  Model=n.BatchNorm2d(64)(Model)\n",
        "  Model=add([Model,gModel2])\n",
        "  return Model"
      ],
      "execution_count": 0,
      "outputs": []
    },
    {
      "cell_type": "code",
      "metadata": {
        "id": "KRFdsOYiw8cY",
        "colab_type": "code",
        "colab": {}
      },
      "source": [
        "def pixelShuffler(Model):\n",
        "  Model=n.Conv2d(64,64,3)(Model)\n",
        "  Model=n.PixelShuffle(2)(Model)\n",
        "  Model=n.PReLU()\n",
        "  return Model"
      ],
      "execution_count": 0,
      "outputs": []
    },
    {
      "cell_type": "code",
      "metadata": {
        "id": "YwPyhu5uIbwq",
        "colab_type": "code",
        "colab": {}
      },
      "source": [
        "def generatorNetwork():\n",
        "  Model=n.Conv2d(3,64,3)\n",
        "  Model=n.PReLU()(Model)\n",
        "  gModel1=Model\n",
        "  for i in range(16):\n",
        "    Model=residualBlock(Model)\n",
        "  Model=n.Conv2d(3,64,3)(Model)\n",
        "  Model=n.BatchNorm2d(64)\n",
        "  Model=n.add([Model,gModel1])\n",
        "  for i in range(2):\n",
        "    Model=pixelShuffle(Model)\n",
        "  Model=n.Conv2d(64,64,3)\n",
        "  return Model"
      ],
      "execution_count": 0,
      "outputs": []
    },
    {
      "cell_type": "code",
      "metadata": {
        "id": "GSBdhv9T1oJZ",
        "colab_type": "code",
        "colab": {}
      },
      "source": [
        ""
      ],
      "execution_count": 0,
      "outputs": []
    }
  ]
}